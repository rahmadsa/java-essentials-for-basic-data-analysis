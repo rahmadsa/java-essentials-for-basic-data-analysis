{
 "cells": [
  {
   "cell_type": "code",
   "execution_count": null,
   "metadata": {},
   "outputs": [],
   "source": [
    "//Leave blank\n"
   ]
  },
  {
   "cell_type": "markdown",
   "metadata": {},
   "source": [
    "### 2.A Self-test Questions\n",
    " \n",
    " \n",
    "### Soal 1\n",
    "Tipe data Java apakah yang paling tepat untuk digunakan untuk item - item dari data berikut ini?\n",
    "\n",
    "* jumlah maksimum orang yang diizinkan naik bus; \n",
    "* berat barang yang dibeli di supermarket; \n",
    "* nilai yang diberikan kepada siswa (misalnya ‘A’, ‘B’ atau ‘C’).\n"
   ]
  },
  {
   "cell_type": "markdown",
   "metadata": {},
   "source": [
    "Jawab :\n"
   ]
  },
  {
   "cell_type": "markdown",
   "metadata": {},
   "source": [
    "### Soal 2\n",
    "Lakukan kompilasi dari baris kode berikut ini dan jelaskan  jika menghasilkan kesalahan kompiler (error):"
   ]
  },
  {
   "cell_type": "code",
   "execution_count": null,
   "metadata": {},
   "outputs": [],
   "source": [
    "int x = 75.5; "
   ]
  },
  {
   "cell_type": "code",
   "execution_count": null,
   "metadata": {},
   "outputs": [],
   "source": [
    "double y = 75;"
   ]
  },
  {
   "cell_type": "markdown",
   "metadata": {},
   "source": [
    "### Soal 3\n",
    "Manakah dari berikut ini yang akan menjadi nama yang betul untuk suatu variabel.\n",
    "``` javascript\n",
    "ticket\n",
    "\n",
    "cinema ticket\n",
    "\n",
    "cinemaTicket\n",
    "\n",
    "cinema_ticket\n",
    "\n",
    "void\n",
    "\n",
    "Ticket\n",
    "```"
   ]
  },
  {
   "cell_type": "markdown",
   "metadata": {},
   "source": [
    "### Soal 4. \n",
    "\n",
    "Identifikasi dan perbaikilah kesalahan dalam program di bawah ini, yang menanyakan usia pengguna dan kemudian mencoba mencari tahu tahun di mana pengguna dilahirkan."
   ]
  },
  {
   "cell_type": "code",
   "execution_count": null,
   "metadata": {},
   "outputs": [],
   "source": [
    "final int YEAR; \n",
    "int age, bornIn; \n",
    "\n",
    "age = 10; \n",
    "\n",
    "bornIn = YEAR – age; \n",
    "\n",
    "System.out.println(\"Anda Lahir Tahun \" + BornIn);"
   ]
  },
  {
   "cell_type": "markdown",
   "metadata": {},
   "source": [
    "Penjelasan soal 4 :\n"
   ]
  },
  {
   "cell_type": "markdown",
   "metadata": {},
   "source": [
    "### Soal 5. \n",
    "Berapa nilai akhir z dalam program berikut:\n",
    "``` javascript\n",
    "int x, y, z; \n",
    "x = 5; \n",
    "y = x + 2; \n",
    "x = 10; \n",
    "z = y * x;\n",
    "```"
   ]
  },
  {
   "cell_type": "code",
   "execution_count": null,
   "metadata": {},
   "outputs": [],
   "source": [
    "//Program Soal5 :\n"
   ]
  },
  {
   "cell_type": "markdown",
   "metadata": {},
   "source": [
    "### Soal 6\n",
    "\n",
    "Apa yang akan menjadi keluaran akhir dari program di bawah ini jika num1 diberikan nila 10\n",
    "``` javascript\n",
    "int num1, num2; \n",
    "\n",
    "num1 = 4;\n",
    "\n",
    "num2 = 6; \n",
    " \n",
    "num1 = num1 + 2; \n",
    "num2 = num1 / num2; \n",
    "```"
   ]
  },
  {
   "cell_type": "code",
   "execution_count": null,
   "metadata": {},
   "outputs": [],
   "source": [
    "//Program Soal5 :"
   ]
  },
  {
   "cell_type": "markdown",
   "metadata": {},
   "source": [
    "### Soal 7. \n",
    "\n",
    "Buatlah pseudocode untuk merancang program yang meminta pengguna untuk memasukkan nilai panjang dan tinggi persegi panjang dan kemudian menampilkan luas, keliling dan perimeter persegi panjang tersebut.\n"
   ]
  },
  {
   "cell_type": "code",
   "execution_count": null,
   "metadata": {},
   "outputs": [],
   "source": [
    "BEGIN\n",
    "\n",
    "END"
   ]
  },
  {
   "cell_type": "markdown",
   "metadata": {},
   "source": [
    "### Soal 8. \n",
    "\n",
    "Program di bawah ini ditulis dengan tujuan untuk menukar nilai dari dua variabel. Walaupun tidak memberikan hasil yang diinginkan:\n"
   ]
  },
  {
   "cell_type": "code",
   "execution_count": 2,
   "metadata": {},
   "outputs": [
    {
     "data": {
      "text/plain": [
       "null"
      ]
     },
     "execution_count": 2,
     "metadata": {},
     "output_type": "execute_result"
    }
   ],
   "source": [
    "//Program Soal 8 :\n",
    "// declare variables \n",
    "int x, y; \n",
    "// intialize values\n",
    "x = [masukan nilai x]; \n",
    "x = [masukan nilai y];\n",
    "System.out.print(\"value for x \"+x); \n",
    "System.out.print(\"value for y \"+y); \n",
    "// code attempting to swap two variables  \n",
    "y = x; \n",
    "//display results \n",
    "System.out.println(\"x = \" + x); \n",
    "System.out.println(\"y = \" + y);"
   ]
  },
  {
   "cell_type": "markdown",
   "metadata": {},
   "source": [
    "Berikan penjelasan dari Program Soal 8 jawab :\n",
    "(a) Dapatkah Anda melihat mengapa program tidak melakukan seperti yang diharapkan?\n",
    "\n"
   ]
  },
  {
   "cell_type": "markdown",
   "metadata": {},
   "source": [
    "(b) Apa yang akan menjadi hasil aktual dari program tersebut? \n",
    "\n"
   ]
  },
  {
   "cell_type": "markdown",
   "metadata": {},
   "source": [
    "(c) Modifikasilah program di atas sehingga nilai-nilai dari kedua variabel berhasil ditukar?\n",
    "    "
   ]
  },
  {
   "cell_type": "markdown",
   "metadata": {},
   "source": [
    "### 2.B Programming Exercises\n",
    "\n",
    "#### SOAL 1B.\n",
    "Implementasikan dan analisa program dibawah ini :"
   ]
  },
  {
   "cell_type": "code",
   "execution_count": null,
   "metadata": {},
   "outputs": [],
   "source": [
    "/ Program findcost3\n",
    "/* a program to input the initial price of a product and then calculate and display its cost after tax has been added */ \n",
    "\n",
    "double price, tax; \n",
    "System.out.println(\"*** Product Price Check ***\"); \n",
    "price = [masukan nilai price]; // input price\n",
    "tax = [masukan nilai tax]; // input tax\n",
    "System.out.print(\"initial price: \"+price); \n",
    "System.out.print(\"initial tax: \"+tax);\n",
    "price = price * (1 + tax/100); // perform the calculation System.out.println(\"Cost after tax = \" + price);\n"
   ]
  },
  {
   "cell_type": "markdown",
   "metadata": {},
   "source": [
    "#### SOAL 2B. \n",
    "Implementasikan program dari soal-soal **2.A Self-test Questions** nomor 4, 5, 6 dan 8 di atas untuk memverifikasi jawaban Anda terhadap pertanyaan-pertanyaan tersebut."
   ]
  },
  {
   "cell_type": "markdown",
   "metadata": {},
   "source": [
    "#### SOAL 3B.\n",
    "Implementasikan program persegi panjang yang Anda rancang dalam **2.A Self-test Questions** nomor 7"
   ]
  },
  {
   "cell_type": "code",
   "execution_count": null,
   "metadata": {},
   "outputs": [],
   "source": [
    "//SOAL 3B.\n"
   ]
  },
  {
   "cell_type": "markdown",
   "metadata": {},
   "source": [
    "#### SOAL 4B. \n",
    "pseudocode ini untuk merancang program yang mengubah pound ke kilo (1 kilo = 2,2 lb).\n",
    "``` javascript\n",
    "   BEGIN \n",
    "    SET for pounds \n",
    "    ENTER value in pounds \n",
    "    SET value to old value ÷ 2.2 \n",
    "    DISPLAY value in kilos \n",
    "   END\n",
    "```   \n",
    "   Implementasikan program untuk pseudocode diatas, perhatikan untuk mendeklarasikan variabel apa pun yang diperlukan."
   ]
  },
  {
   "cell_type": "code",
   "execution_count": null,
   "metadata": {},
   "outputs": [],
   "source": [
    "//Program 4B\n"
   ]
  },
  {
   "cell_type": "markdown",
   "metadata": {},
   "source": [
    "#### SOAL 5B. \n",
    "Individual Body Mass Index (BMI) adalah ukuran berat ideal seseorang sehubungan dengan tinggi badan mereka. dihitung dengan cara berikut:\n",
    " \n",
    "  * membagi berat badan seseorang (dalam kg) dengan kuadrat tinggi badan mereka (dalam meter) \n",
    "\n",
    "Rancang pseudocode dan implementasikan program untuk memungkinkan inisialisasi variabel berat dan tinggi badan untuk kemudian mencetak BMI mereka.\n"
   ]
  },
  {
   "cell_type": "code",
   "execution_count": null,
   "metadata": {},
   "outputs": [],
   "source": [
    "pseudocode "
   ]
  },
  {
   "cell_type": "code",
   "execution_count": null,
   "metadata": {},
   "outputs": [],
   "source": [
    "// Program SOAL 5B"
   ]
  },
  {
   "cell_type": "markdown",
   "metadata": {},
   "source": [
    "#### SOAL 6B \n",
    "Rancanglah dan implementasikan program yang memungkinkan pengguna untuk memasukkan nilai untuk jari-jari lingkaran, lalu menampilkan area dan keliling lingkaran.\n",
    "**Note :** phi = 3,1416 sebagai konstanta "
   ]
  },
  {
   "cell_type": "code",
   "execution_count": null,
   "metadata": {},
   "outputs": [],
   "source": [
    "pseudocode "
   ]
  },
  {
   "cell_type": "code",
   "execution_count": null,
   "metadata": {},
   "outputs": [],
   "source": [
    "// Program SOAL 6B"
   ]
  }
 ],
 "metadata": {
  "kernelspec": {
   "display_name": "Java",
   "language": "java",
   "name": "java"
  },
  "language_info": {
   "codemirror_mode": "text/x-java",
   "file_extension": ".java",
   "mimetype": "",
   "name": "Java",
   "nbconverter_exporter": "",
   "version": "1.8.0_121"
  },
  "toc": {
   "base_numbering": 1,
   "nav_menu": {},
   "number_sections": false,
   "sideBar": false,
   "skip_h1_title": false,
   "title_cell": "Table of Contents",
   "title_sidebar": "Contents",
   "toc_cell": false,
   "toc_position": {},
   "toc_section_display": false,
   "toc_window_display": false
  }
 },
 "nbformat": 4,
 "nbformat_minor": 2
}
