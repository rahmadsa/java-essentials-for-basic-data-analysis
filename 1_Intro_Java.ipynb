{
 "cells": [
  {
   "cell_type": "markdown",
   "metadata": {},
   "source": [
    "## Day 1. Introducing Java Programming\n",
    "\n",
    "### Outcomes: \n",
    "By the end of this chapter you should be able to:\n",
    "\n",
    "* running the IDE to write Java programming code\n",
    "* write Java programs that display text on the screen; \n",
    "* join messages in output commands by using the concatenation (+) operator; \n",
    "* add comments to programs."
   ]
  },
  {
   "cell_type": "markdown",
   "metadata": {},
   "source": [
    "### 1.1 Softwares Requirement\n",
    "\n",
    "It is very common to compile and run your all programs by using these software:\n",
    "1. OS Windows7, Windows10, Linux and Mac OS\n",
    "2. Anaconda \n",
    "3. Open JDK 9.0\n",
    "4. BeakerX\n",
    "5. Jupyter\n",
    "\n",
    "#### Anaconda\n",
    "Download https://www.anaconda.com\n",
    "\n",
    "How to install :\n",
    "\n",
    "<a href=\"http://www.youtube.com/watch?feature=player_embedded&v=T3ff57rxTa8\n",
    "\" target=\"_blank\"><img src=\"http://img.youtube.com/vi/T3ff57rxTa8/0.jpg\" \n",
    "alt=\"Exeception Handling\" width=\"480\" height=\"360\" border=\"10\" /></a>\n",
    "\n",
    "https://www.youtube.com/watch?v=T3ff57rxTa8\n",
    "\n",
    "#### BeakerX\n",
    "How to install : http://beakerx.com\n",
    "\n",
    "#### Jupyter\n",
    "1. How to run jupyter using anaconda : https://www.youtube.com/watch?v=OJMILWh6ARY\n",
    "\n",
    "<a href=\"http://www.youtube.com/watch?feature=player_embedded&v=OJMILWh6ARY\n",
    "\" target=\"_blank\"><img src=\"http://img.youtube.com/vi/OJMILWh6ARY/0.jpg\" \n",
    "alt=\"Exeception Handling\" width=\"480\" height=\"360\" border=\"10\" /></a>\n",
    "\n",
    "2. Quick introduction to Jupyter Notebook: https://www.youtube.com/watch?v=jZ952vChhuI\n",
    "\n",
    "<a href=\"http://www.youtube.com/watch?feature=player_embedded&v=jZ952vChhuI\n",
    "\" target=\"_blank\"><img src=\"http://img.youtube.com/vi/jZ952vChhuI/0.jpg\" \n",
    "alt=\"Exeception Handling\" width=\"480\" height=\"360\" border=\"10\" /></a>"
   ]
  },
  {
   "cell_type": "markdown",
   "metadata": {},
   "source": [
    "### 1.2 The History of the Java Programming Language\n",
    "\n",
    "\n",
    "<a href=\"http://www.youtube.com/watch?feature=player_embedded&v=uHyfQV0kbgo\n",
    "\" target=\"_blank\"><img src=\"http://img.youtube.com/vi/uHyfQV0kbgo/0.jpg\" \n",
    "alt=\"Exeception Handling\" width=\"480\" height=\"360\" border=\"10\" /></a>\n",
    "\n"
   ]
  },
  {
   "cell_type": "markdown",
   "metadata": {},
   "source": [
    "### 1.3 Your First Program\n",
    "\n",
    "Now it is time to write your ﬁrst program. Anyone who knows anything about programming will tell you that the ﬁrst program that you write in a new language has always got to be a program that displays the words “Hello world” on the screen; so we will stick with tradition, and your ﬁrst program will do exactly that!.\n",
    "\n",
    "When your program runs you will see the words “Hello world” displayed. The type of window in which this is displayed will vary according to the particular operating system you are running, and the particular compiler you are using. \n",
    "\n",
    "The code for the “Hello world” program is written out for you below.\n"
   ]
  },
  {
   "cell_type": "code",
   "execution_count": 1,
   "metadata": {},
   "outputs": [
    {
     "name": "stdout",
     "output_type": "stream",
     "text": [
      "Hello world\n"
     ]
    },
    {
     "data": {
      "text/plain": [
       "null"
      ]
     },
     "execution_count": 1,
     "metadata": {},
     "output_type": "execute_result"
    }
   ],
   "source": [
    "System.out.println (\"Hello world\");"
   ]
  },
  {
   "cell_type": "markdown",
   "metadata": {},
   "source": [
    " ### 1.4 Analysis of the “Hello World” Program\n",
    " \n",
    "Let’s start with the really important bit—the line of code that represents the instruction display “Hello world” on the screen. The line that does this looks like this:\n",
    "\n",
    "``` javascript\n",
    "   System.out.println (\"Hello world\");\n",
    "``` \n",
    "\n",
    "This is the way we are always going to get stuff printed on a simple text screen; we use System.out.println (or sometimes System.out.print, as explained below) and put whatever we want to be displayed in the brackets. The println is short for “print line” by the way. You won’t understand at this stage why it has to be in this precise form (with each word separated by a full stop, and the actual phrase in double quotes), but do make sure that you type it exactly as you see it here, with an upper case S at the beginning. Also, you should notice the semi-colon at the end of the statement. This is important; every Java instruction has to end with a semi-colon. \n"
   ]
  },
  {
   "cell_type": "markdown",
   "metadata": {},
   "source": [
    "### 1.5 Adding Comments to a Program\n",
    "\n",
    "When we write program code, we will often want to include some comments to help remind us what we were doing when we look at our code a few weeks later, or to help other people to understand what we have done. Of course, we want the compiler to ignore these comments when the code is being compiled. There are different ways of doing this. For short comments we place two slashes (//) at the beginning of the line—everything after these slashes, up to the end of the line, is then ignored by the compiler. For longer comments (that is, ones that run over more than a single line) we usually use another approach. The comment is enclosed between two special symbols; the opening symbol is a slash followed by a star (/*) and the closing symbol is a star followed by a slash (*/). Everything between these two symbols is ignored by the compiler. The program below shows examples of both types of comment; when you compile and run this program you will see that the comments have no effect on the code, and the output is exactly the same as that of the original program.\n"
   ]
  },
  {
   "cell_type": "code",
   "execution_count": 2,
   "metadata": {},
   "outputs": [
    {
     "name": "stdout",
     "output_type": "stream",
     "text": [
      "Hello world\n"
     ]
    },
    {
     "data": {
      "text/plain": [
       "null"
      ]
     },
     "execution_count": 2,
     "metadata": {},
     "output_type": "execute_result"
    }
   ],
   "source": [
    "// this is a short comment, so we use the first method \n",
    "\n",
    "System.out.println(\"Hello world\"); \n",
    "\n",
    "/* this is the second method of including comments \n",
    "– it is more convenient to use this method here, because the comment is longer and goes over more than one line \n",
    "*/ "
   ]
  },
  {
   "cell_type": "markdown",
   "metadata": {},
   "source": [
    "### 1.6 Output in Java\n",
    "As you have already seen when writing your ﬁrst program, to output a message on to the screen in Java we use the following command:\n",
    "System.out.println(message to be printed on screen); For example, we have already seen:\n",
    "\n",
    "``` javascript\n",
    "   System.out.println(\"Hello world\");\n",
    "```\n",
    "This prints the message “Hello world” onto the screen. There is in fact an alternative form of the System.out.println statement, which uses System. out.print. As we said before, println is short for print line and the effect of this statement is to start a new line after displaying whatever is in the brackets. You can see the effect of this below—we have adapted our program by adding an additional line\n"
   ]
  },
  {
   "cell_type": "markdown",
   "metadata": {},
   "source": [
    "### Execise 1.1;\n",
    "run this program,  would be the output of the following programs?"
   ]
  },
  {
   "cell_type": "code",
   "execution_count": 1,
   "metadata": {},
   "outputs": [
    {
     "name": "stdout",
     "output_type": "stream",
     "text": [
      "Hello world\n",
      "Hello world again!\n"
     ]
    },
    {
     "data": {
      "text/plain": [
       "null"
      ]
     },
     "execution_count": 1,
     "metadata": {},
     "output_type": "execute_result"
    }
   ],
   "source": [
    "//Program 2.1. \n",
    "//HelloWorld program – with an addional line \n",
    "\n",
    "System.out.println(\"Hello world\"); // notice the use of println \n",
    "System.out.println(\"Hello world again!\");"
   ]
  },
  {
   "cell_type": "markdown",
   "metadata": {},
   "source": [
    "This program prints the message “Hello world” onto the screen. There is in fact an alternative form of the System.out.println statement, which uses System. out.print. As we said before, println is short for print line and the effect of this statement is to start a new line after displaying whatever is in the brackets. You can see the effect of this below—we have adapted our program by adding an additional line.\n",
    "\n",
    "### Execise 2.2;\n",
    " would be the output of the code 2.2 programs? explain about the program 2.2\n",
    "\n",
    "Now let’s change the ﬁrst System.out.println to System.out.print and run this program:"
   ]
  },
  {
   "cell_type": "code",
   "execution_count": null,
   "metadata": {},
   "outputs": [],
   "source": [
    "//Program 2.2\n",
    "//HelloWorld–adapted to show the eﬀect of using print instead of println \n",
    "System.out.print(\"Hello world\"); // notice the use of 'print' \n",
    "System.out.println(\"Hello world again!\");\n"
   ]
  },
  {
   "cell_type": "markdown",
   "metadata": {},
   "source": [
    "**Write your explain in Bahasa Indonesia over here :**\n",
    "\n",
    ".............."
   ]
  },
  {
   "cell_type": "markdown",
   "metadata": {},
   "source": [
    "     \n",
    "In Java, two strings can be joined together with the plus symbol (+). When using this symbol for this purpose it is known as the concatenation operator. For example, instead of printing the single string “Hello world”, we could have joined two strings, “Hello” and “world”.\n",
    "\n",
    "### Execise 2.3;\n",
    "run this program,  would be the output of the following programs?"
   ]
  },
  {
   "cell_type": "code",
   "execution_count": null,
   "metadata": {},
   "outputs": [],
   "source": [
    "System.out.println(\"Hello \" + \"world\");"
   ]
  },
  {
   "cell_type": "markdown",
   "metadata": {},
   "source": [
    "### Execise 2.4;\n",
    "Write a program that displays your name and student ID. For example:\n",
    "''Nama Saya Dono, NIM 1889922''"
   ]
  },
  {
   "cell_type": "code",
   "execution_count": null,
   "metadata": {},
   "outputs": [],
   "source": [
    "//Program 2.2 Execise 2.4\n"
   ]
  },
  {
   "cell_type": "markdown",
   "metadata": {},
   "source": [
    "### Execise 2.5;\n",
    "#### Learning github\n",
    "1. Learning about github https://www.youtube.com/watch?v=0fKg7e37bQE \n",
    "<a href=\"http://www.youtube.com/watch?feature=player_embedded&v=0fKg7e37bQE\n",
    "\" target=\"_blank\"><img src=\"http://img.youtube.com/vi/0fKg7e37bQE/0.jpg\" \n",
    "alt=\"Exeception Handling\" width=\"480\" height=\"360\" border=\"10\" /></a>\n",
    "2. Create account in https://github.com"
   ]
  },
  {
   "cell_type": "markdown",
   "metadata": {},
   "source": [
    "**Write your github URL over here :**\n",
    "..........."
   ]
  }
 ],
 "metadata": {
  "kernelspec": {
   "display_name": "Java",
   "language": "java",
   "name": "java"
  },
  "language_info": {
   "codemirror_mode": "text/x-java",
   "file_extension": ".java",
   "mimetype": "",
   "name": "Java",
   "nbconverter_exporter": "",
   "version": "1.8.0_121"
  },
  "toc": {
   "base_numbering": 1,
   "nav_menu": {},
   "number_sections": false,
   "sideBar": false,
   "skip_h1_title": false,
   "title_cell": "Table of Contents",
   "title_sidebar": "Contents",
   "toc_cell": false,
   "toc_position": {},
   "toc_section_display": false,
   "toc_window_display": false
  }
 },
 "nbformat": 4,
 "nbformat_minor": 2
}
