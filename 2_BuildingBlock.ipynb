{
 "cells": [
  {
   "cell_type": "markdown",
   "metadata": {},
   "source": [
    "## Day 2 Building Block\n",
    "\n",
    "### Outcomes: \n",
    "By the end of this chapter you should be able to:\n",
    "* distinguish between the eight built-in primitive types of Java; \n",
    "* declare and assign values to variables; \n",
    "* create constant values with the keyword ﬁnal; \n",
    "* use the input methods of the Scanner class to get data from the keyboard; \n",
    "* design the functionality of a method using pseudocode.\n"
   ]
  },
  {
   "cell_type": "markdown",
   "metadata": {},
   "source": [
    "### 2.1 Introduction\n",
    "The Hello world program that we developed in Chap. 1 is of course very simple\n",
    "indeed. One way in which this program is very limited is that it has no data to work\n",
    "on. All interesting programs will have to store data in order to give interesting\n",
    "results; what use would a calculator be without the numbers the user types into add\n",
    "and multiply? For this reason, one of the first questions you should ask when\n",
    "learning any programming language is “what types of data does this language allow\n",
    "me to store in my programs?”\n",
    "\n",
    "### 2.2 Simple Data Types in Java\n",
    "We begin this topic by taking a look at the basic types available in the Java\n",
    "language. The types of value used within a program are referred to as **data types**. If you wish to record the price of a cinema ticket in a program, for example, this value would probably need to be kept in the form of a **real number** (a number with a decimal point in it). However, if you wished to record how many tickets have been sold you would need to keep this in the form of an **integer** (whole number). It is necessary to know whether suitable types exist in the programming language to keep these items of data.\n",
    "\n",
    "In Java there are a few simple data types that programmers can use. These simple types are often referred to as **the primitive types** of Java; they are also referred to as **the scalar types**, as they relate to a single piece of information (a single real number, a single character etc.).\n",
    "\n",
    "Table 2.1 lists the names of these types in the Java language, the kinds of value they represent, and the exact range of these values.\n",
    "\n",
    "As you can see, some kinds of data, namely integers and real numbers, can be kept as more than one Java type. For example, you can use the byte type, the short type or the int type to hold integers in Java. However, while each numeric Java type allows for both positive and negative numbers, the maximum size of numbers that can be stored varies from type to type.\n",
    "\n",
    "\n",
    "For example, the type byte can represent integers ranging only from −128 to\n",
    "127, whereas the type short can represent integers ranging from −32,768 to\n",
    "32,767. Unlike some programming languages, these ranges are fixed no matter\n",
    "which Java compiler or operating system you are using.\n",
    "The character type, char, is used to represent characters from a standard set of\n",
    "characters known as the Unicode character set. This contains nearly all the char-\n",
    "acters from most known languages. For the sake of simplicity, you can think of this\n",
    "type as representing any character that can be input from your keyboard.\n",
    "Finally, the boolean type is used to keep only one of two possible values:\n",
    "true or false. This type can be useful when creating tests in programs. For\n",
    "example, the answer to the question “have I passed my exam?” will either be either\n",
    "yes or no. In Java a boolean type could be used to keep the answer to this\n",
    "question, with the value true being used to represent yes and the value false to\n",
    "represent no."
   ]
  },
  {
   "cell_type": "code",
   "execution_count": null,
   "metadata": {},
   "outputs": [],
   "source": []
  }
 ],
 "metadata": {
  "kernelspec": {
   "display_name": "Java",
   "language": "java",
   "name": "java"
  },
  "language_info": {
   "codemirror_mode": "text/x-java",
   "file_extension": ".java",
   "mimetype": "",
   "name": "Java",
   "nbconverter_exporter": "",
   "version": "1.8.0_121"
  },
  "toc": {
   "base_numbering": 1,
   "nav_menu": {},
   "number_sections": false,
   "sideBar": false,
   "skip_h1_title": false,
   "title_cell": "Table of Contents",
   "title_sidebar": "Contents",
   "toc_cell": false,
   "toc_position": {},
   "toc_section_display": false,
   "toc_window_display": false
  }
 },
 "nbformat": 4,
 "nbformat_minor": 2
}
